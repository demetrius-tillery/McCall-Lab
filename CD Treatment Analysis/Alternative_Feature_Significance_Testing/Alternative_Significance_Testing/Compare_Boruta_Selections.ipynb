{
 "cells": [
  {
   "cell_type": "code",
   "execution_count": 1,
   "id": "9defae65-f5ba-4d26-a247-106834944b1f",
   "metadata": {},
   "outputs": [
    {
     "name": "stderr",
     "output_type": "stream",
     "text": [
      "Warning message:\n",
      "\"package 'ggplot2' was built under R version 4.4.3\"\n",
      "── \u001b[1mAttaching core tidyverse packages\u001b[22m ──────────────────────── tidyverse 2.0.0 ──\n",
      "\u001b[32m✔\u001b[39m \u001b[34mdplyr    \u001b[39m 1.1.4     \u001b[32m✔\u001b[39m \u001b[34mreadr    \u001b[39m 2.1.5\n",
      "\u001b[32m✔\u001b[39m \u001b[34mforcats  \u001b[39m 1.0.0     \u001b[32m✔\u001b[39m \u001b[34mstringr  \u001b[39m 1.5.1\n",
      "\u001b[32m✔\u001b[39m \u001b[34mggplot2  \u001b[39m 3.5.1     \u001b[32m✔\u001b[39m \u001b[34mtibble   \u001b[39m 3.2.1\n",
      "\u001b[32m✔\u001b[39m \u001b[34mlubridate\u001b[39m 1.9.3     \u001b[32m✔\u001b[39m \u001b[34mtidyr    \u001b[39m 1.3.1\n",
      "\u001b[32m✔\u001b[39m \u001b[34mpurrr    \u001b[39m 1.0.2     \n",
      "── \u001b[1mConflicts\u001b[22m ────────────────────────────────────────── tidyverse_conflicts() ──\n",
      "\u001b[31m✖\u001b[39m \u001b[34mdplyr\u001b[39m::\u001b[32mfilter()\u001b[39m masks \u001b[34mstats\u001b[39m::filter()\n",
      "\u001b[31m✖\u001b[39m \u001b[34mdplyr\u001b[39m::\u001b[32mlag()\u001b[39m    masks \u001b[34mstats\u001b[39m::lag()\n",
      "\u001b[36mℹ\u001b[39m Use the conflicted package (\u001b[3m\u001b[34m<http://conflicted.r-lib.org/>\u001b[39m\u001b[23m) to force all conflicts to become errors\n"
     ]
    }
   ],
   "source": [
    "library(tidyverse)\n",
    "library(ggplot2)\n",
    "library(dplyr)"
   ]
  },
  {
   "cell_type": "code",
   "execution_count": 2,
   "id": "b8332f5b-ca71-4d66-94fd-bee8c2391354",
   "metadata": {},
   "outputs": [
    {
     "data": {
      "text/html": [
       "<table class=\"dataframe\">\n",
       "<caption>A data.frame: 6 × 14</caption>\n",
       "<thead>\n",
       "\t<tr><th></th><th scope=col>ATTRIBUTE_Group_number</th><th scope=col>X373.1826_3.18_56</th><th scope=col>X153.0405_0.36_315</th><th scope=col>X161.0919_0.32_127</th><th scope=col>X325.2191_3.04_186</th><th scope=col>X511.3737_3.12_263</th><th scope=col>X256.1902_2.85_154</th><th scope=col>X438.2068_2.82_256</th><th scope=col>X211.0785_2.88_399</th><th scope=col>X268.1036_0.34_74</th><th scope=col>X440.3363_3.29_72</th><th scope=col>X478.2168_3.21_173</th><th scope=col>X302.3047_2.85_3778</th><th scope=col>X338.3412_3.58_5</th></tr>\n",
       "\t<tr><th></th><th scope=col>&lt;chr&gt;</th><th scope=col>&lt;dbl&gt;</th><th scope=col>&lt;dbl&gt;</th><th scope=col>&lt;dbl&gt;</th><th scope=col>&lt;dbl&gt;</th><th scope=col>&lt;dbl&gt;</th><th scope=col>&lt;dbl&gt;</th><th scope=col>&lt;dbl&gt;</th><th scope=col>&lt;dbl&gt;</th><th scope=col>&lt;dbl&gt;</th><th scope=col>&lt;dbl&gt;</th><th scope=col>&lt;dbl&gt;</th><th scope=col>&lt;dbl&gt;</th><th scope=col>&lt;dbl&gt;</th></tr>\n",
       "</thead>\n",
       "<tbody>\n",
       "\t<tr><th scope=row>1</th><td>Group1</td><td>0.006640491</td><td>0.000931060</td><td>0.002289523</td><td>0.005071626</td><td>0.003185624</td><td>0.006688267</td><td>0.001408154</td><td>0.000797428</td><td>0.001992697</td><td>0.01718713</td><td>0.003110803</td><td>0</td><td>0.01847105</td></tr>\n",
       "\t<tr><th scope=row>2</th><td>Group1</td><td>0.006299344</td><td>0.000479071</td><td>0.001875588</td><td>0.004262437</td><td>0.002303382</td><td>0.005416939</td><td>0.000562030</td><td>0.000000000</td><td>0.001819297</td><td>0.01417523</td><td>0.002845039</td><td>0</td><td>0.03297473</td></tr>\n",
       "\t<tr><th scope=row>3</th><td>Group1</td><td>0.006953301</td><td>0.000000000</td><td>0.003051390</td><td>0.004474352</td><td>0.002982152</td><td>0.006166728</td><td>0.001138919</td><td>0.000000000</td><td>0.000697424</td><td>0.01582914</td><td>0.003285535</td><td>0</td><td>0.03136459</td></tr>\n",
       "\t<tr><th scope=row>4</th><td>Group1</td><td>0.005331010</td><td>0.000456508</td><td>0.002977901</td><td>0.004973992</td><td>0.003113843</td><td>0.006018647</td><td>0.001148272</td><td>0.000454055</td><td>0.000678396</td><td>0.01725788</td><td>0.003440244</td><td>0</td><td>0.02943557</td></tr>\n",
       "\t<tr><th scope=row>5</th><td>Group2</td><td>0.006326121</td><td>0.000389705</td><td>0.002801473</td><td>0.004597185</td><td>0.002788813</td><td>0.005600116</td><td>0.000691617</td><td>0.000514492</td><td>0.001601314</td><td>0.01539983</td><td>0.002572310</td><td>0</td><td>0.02807980</td></tr>\n",
       "\t<tr><th scope=row>6</th><td>Group2</td><td>0.014686114</td><td>0.000459261</td><td>0.004677486</td><td>0.004784785</td><td>0.003862115</td><td>0.006310213</td><td>0.000922547</td><td>0.000602132</td><td>0.000441980</td><td>0.01807820</td><td>0.002543036</td><td>0</td><td>0.03664653</td></tr>\n",
       "</tbody>\n",
       "</table>\n"
      ],
      "text/latex": [
       "A data.frame: 6 × 14\n",
       "\\begin{tabular}{r|llllllllllllll}\n",
       "  & ATTRIBUTE\\_Group\\_number & X373.1826\\_3.18\\_56 & X153.0405\\_0.36\\_315 & X161.0919\\_0.32\\_127 & X325.2191\\_3.04\\_186 & X511.3737\\_3.12\\_263 & X256.1902\\_2.85\\_154 & X438.2068\\_2.82\\_256 & X211.0785\\_2.88\\_399 & X268.1036\\_0.34\\_74 & X440.3363\\_3.29\\_72 & X478.2168\\_3.21\\_173 & X302.3047\\_2.85\\_3778 & X338.3412\\_3.58\\_5\\\\\n",
       "  & <chr> & <dbl> & <dbl> & <dbl> & <dbl> & <dbl> & <dbl> & <dbl> & <dbl> & <dbl> & <dbl> & <dbl> & <dbl> & <dbl>\\\\\n",
       "\\hline\n",
       "\t1 & Group1 & 0.006640491 & 0.000931060 & 0.002289523 & 0.005071626 & 0.003185624 & 0.006688267 & 0.001408154 & 0.000797428 & 0.001992697 & 0.01718713 & 0.003110803 & 0 & 0.01847105\\\\\n",
       "\t2 & Group1 & 0.006299344 & 0.000479071 & 0.001875588 & 0.004262437 & 0.002303382 & 0.005416939 & 0.000562030 & 0.000000000 & 0.001819297 & 0.01417523 & 0.002845039 & 0 & 0.03297473\\\\\n",
       "\t3 & Group1 & 0.006953301 & 0.000000000 & 0.003051390 & 0.004474352 & 0.002982152 & 0.006166728 & 0.001138919 & 0.000000000 & 0.000697424 & 0.01582914 & 0.003285535 & 0 & 0.03136459\\\\\n",
       "\t4 & Group1 & 0.005331010 & 0.000456508 & 0.002977901 & 0.004973992 & 0.003113843 & 0.006018647 & 0.001148272 & 0.000454055 & 0.000678396 & 0.01725788 & 0.003440244 & 0 & 0.02943557\\\\\n",
       "\t5 & Group2 & 0.006326121 & 0.000389705 & 0.002801473 & 0.004597185 & 0.002788813 & 0.005600116 & 0.000691617 & 0.000514492 & 0.001601314 & 0.01539983 & 0.002572310 & 0 & 0.02807980\\\\\n",
       "\t6 & Group2 & 0.014686114 & 0.000459261 & 0.004677486 & 0.004784785 & 0.003862115 & 0.006310213 & 0.000922547 & 0.000602132 & 0.000441980 & 0.01807820 & 0.002543036 & 0 & 0.03664653\\\\\n",
       "\\end{tabular}\n"
      ],
      "text/markdown": [
       "\n",
       "A data.frame: 6 × 14\n",
       "\n",
       "| <!--/--> | ATTRIBUTE_Group_number &lt;chr&gt; | X373.1826_3.18_56 &lt;dbl&gt; | X153.0405_0.36_315 &lt;dbl&gt; | X161.0919_0.32_127 &lt;dbl&gt; | X325.2191_3.04_186 &lt;dbl&gt; | X511.3737_3.12_263 &lt;dbl&gt; | X256.1902_2.85_154 &lt;dbl&gt; | X438.2068_2.82_256 &lt;dbl&gt; | X211.0785_2.88_399 &lt;dbl&gt; | X268.1036_0.34_74 &lt;dbl&gt; | X440.3363_3.29_72 &lt;dbl&gt; | X478.2168_3.21_173 &lt;dbl&gt; | X302.3047_2.85_3778 &lt;dbl&gt; | X338.3412_3.58_5 &lt;dbl&gt; |\n",
       "|---|---|---|---|---|---|---|---|---|---|---|---|---|---|---|\n",
       "| 1 | Group1 | 0.006640491 | 0.000931060 | 0.002289523 | 0.005071626 | 0.003185624 | 0.006688267 | 0.001408154 | 0.000797428 | 0.001992697 | 0.01718713 | 0.003110803 | 0 | 0.01847105 |\n",
       "| 2 | Group1 | 0.006299344 | 0.000479071 | 0.001875588 | 0.004262437 | 0.002303382 | 0.005416939 | 0.000562030 | 0.000000000 | 0.001819297 | 0.01417523 | 0.002845039 | 0 | 0.03297473 |\n",
       "| 3 | Group1 | 0.006953301 | 0.000000000 | 0.003051390 | 0.004474352 | 0.002982152 | 0.006166728 | 0.001138919 | 0.000000000 | 0.000697424 | 0.01582914 | 0.003285535 | 0 | 0.03136459 |\n",
       "| 4 | Group1 | 0.005331010 | 0.000456508 | 0.002977901 | 0.004973992 | 0.003113843 | 0.006018647 | 0.001148272 | 0.000454055 | 0.000678396 | 0.01725788 | 0.003440244 | 0 | 0.02943557 |\n",
       "| 5 | Group2 | 0.006326121 | 0.000389705 | 0.002801473 | 0.004597185 | 0.002788813 | 0.005600116 | 0.000691617 | 0.000514492 | 0.001601314 | 0.01539983 | 0.002572310 | 0 | 0.02807980 |\n",
       "| 6 | Group2 | 0.014686114 | 0.000459261 | 0.004677486 | 0.004784785 | 0.003862115 | 0.006310213 | 0.000922547 | 0.000602132 | 0.000441980 | 0.01807820 | 0.002543036 | 0 | 0.03664653 |\n",
       "\n"
      ],
      "text/plain": [
       "  ATTRIBUTE_Group_number X373.1826_3.18_56 X153.0405_0.36_315\n",
       "1 Group1                 0.006640491       0.000931060       \n",
       "2 Group1                 0.006299344       0.000479071       \n",
       "3 Group1                 0.006953301       0.000000000       \n",
       "4 Group1                 0.005331010       0.000456508       \n",
       "5 Group2                 0.006326121       0.000389705       \n",
       "6 Group2                 0.014686114       0.000459261       \n",
       "  X161.0919_0.32_127 X325.2191_3.04_186 X511.3737_3.12_263 X256.1902_2.85_154\n",
       "1 0.002289523        0.005071626        0.003185624        0.006688267       \n",
       "2 0.001875588        0.004262437        0.002303382        0.005416939       \n",
       "3 0.003051390        0.004474352        0.002982152        0.006166728       \n",
       "4 0.002977901        0.004973992        0.003113843        0.006018647       \n",
       "5 0.002801473        0.004597185        0.002788813        0.005600116       \n",
       "6 0.004677486        0.004784785        0.003862115        0.006310213       \n",
       "  X438.2068_2.82_256 X211.0785_2.88_399 X268.1036_0.34_74 X440.3363_3.29_72\n",
       "1 0.001408154        0.000797428        0.001992697       0.01718713       \n",
       "2 0.000562030        0.000000000        0.001819297       0.01417523       \n",
       "3 0.001138919        0.000000000        0.000697424       0.01582914       \n",
       "4 0.001148272        0.000454055        0.000678396       0.01725788       \n",
       "5 0.000691617        0.000514492        0.001601314       0.01539983       \n",
       "6 0.000922547        0.000602132        0.000441980       0.01807820       \n",
       "  X478.2168_3.21_173 X302.3047_2.85_3778 X338.3412_3.58_5\n",
       "1 0.003110803        0                   0.01847105      \n",
       "2 0.002845039        0                   0.03297473      \n",
       "3 0.003285535        0                   0.03136459      \n",
       "4 0.003440244        0                   0.02943557      \n",
       "5 0.002572310        0                   0.02807980      \n",
       "6 0.002543036        0                   0.03664653      "
      ]
     },
     "metadata": {},
     "output_type": "display_data"
    }
   ],
   "source": [
    "df <- read.csv(\"Significant_Features_Preliminary_Boxplot_Prep_Cohort1_C8_Heart.csv\")\n",
    "\n",
    "head(df)"
   ]
  },
  {
   "cell_type": "code",
   "execution_count": 3,
   "id": "c24985e0-9dc0-4104-ba21-289ffc894018",
   "metadata": {},
   "outputs": [],
   "source": [
    "#Reorganizing data\n",
    "data_long <- df%>%\n",
    "    pivot_longer(\n",
    "        cols = -ATTRIBUTE_Group_number,\n",
    "        names_to = \"Feature\",\n",
    "        values_to = \"Value\",\n",
    "    )"
   ]
  },
  {
   "cell_type": "code",
   "execution_count": 4,
   "id": "f712c445-bfa2-416b-bebc-7cda594ed750",
   "metadata": {},
   "outputs": [],
   "source": [
    "#I want to make Group1 first and Group3 last so we can see the differences\n",
    "data_long$ATTRIBUTE_Group_number <- factor(\n",
    "    data_long$ATTRIBUTE_Group_number,\n",
    "    levels = c(\"Group1\", setdiff(unique(data_long$ATTRIBUTE_Group_number), c(\"Group1\", \"Group3\")), \"Group3\")\n",
    ")"
   ]
  },
  {
   "cell_type": "code",
   "execution_count": 5,
   "id": "158bbc60-7f7f-4188-bcfe-18fb6080a764",
   "metadata": {},
   "outputs": [
    {
     "data": {
      "image/png": "[encoded data removed]",
      "text/plain": [
       "plot without title"
      ]
     },
     "metadata": {
      "image/png": {
       "height": 420,
       "width": 420
      }
     },
     "output_type": "display_data"
    }
   ],
   "source": [
    "ggplot(data_long, aes(x = ATTRIBUTE_Group_number, y = Value)) +\n",
    "  geom_boxplot() +\n",
    "  facet_wrap(~Feature, scales = \"free_y\") +\n",
    "  theme_bw() +\n",
    "  theme(axis.text.x = element_text(angle = 45, hjust = 1)) +\n",
    "  labs(x = \"Group\", y = \"Feature Value\", title = \"Feature Distribution per Group\")"
   ]
  },
  {
   "cell_type": "code",
   "execution_count": 6,
   "id": "937db063-f4a5-4133-833d-c1328e94ac44",
   "metadata": {},
   "outputs": [],
   "source": [
    "unique_features <- unique(data_long$Feature)"
   ]
  },
  {
   "cell_type": "code",
   "execution_count": 7,
   "id": "3e8a025c-953a-4388-9ae3-35f16816e15a",
   "metadata": {},
   "outputs": [],
   "source": [
    "for (feature in unique_features) {\n",
    "  p <- ggplot(data_long %>% filter(Feature == feature), aes(x = ATTRIBUTE_Group_number, y = Value)) +\n",
    "    geom_boxplot() +\n",
    "    theme_bw() +\n",
    "    labs(title = feature, x = \"Group\", y = \"Value\") +\n",
    "    theme(axis.text.x = element_text(angle = 45, hjust = 1))\n",
    "  \n",
    "  # Sanitize feature name to be a safe filename\n",
    "  file_name <- gsub(\"[^A-Za-z0-9_]\", \"_\", feature)\n",
    "  \n",
    "  # Save PNG to current working directory\n",
    "  ggsave(filename = paste0(file_name, \".png\"), plot = p, width = 6, height = 4, dpi = 300)\n",
    "}"
   ]
  }
 ],
 "metadata": {
  "kernelspec": {
   "display_name": "R",
   "language": "R",
   "name": "ir"
  },
  "language_info": {
   "codemirror_mode": "r",
   "file_extension": ".r",
   "mimetype": "text/x-r-source",
   "name": "R",
   "pygments_lexer": "r",
   "version": "4.4.1"
  }
 },
 "nbformat": 4,
 "nbformat_minor": 5
}
